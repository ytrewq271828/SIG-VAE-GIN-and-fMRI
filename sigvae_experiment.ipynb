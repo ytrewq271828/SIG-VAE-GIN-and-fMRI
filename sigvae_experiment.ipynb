{
 "cells": [
  {
   "cell_type": "code",
   "execution_count": 3,
   "metadata": {},
   "outputs": [
    {
     "ename": "NameError",
     "evalue": "name '_C' is not defined",
     "output_type": "error",
     "traceback": [
      "\u001b[1;31m---------------------------------------------------------------------------\u001b[0m",
      "\u001b[1;31mNameError\u001b[0m                                 Traceback (most recent call last)",
      "\u001b[1;32mc:\\Users\\Junyup Kim\\Desktop\\KAIST\\21Winter\\Research\\SIG-VAE-GIN-and-fMRI\\sigvae_experiment.ipynb Cell 1'\u001b[0m in \u001b[0;36m<cell line: 1>\u001b[1;34m()\u001b[0m\n\u001b[1;32m----> <a href='vscode-notebook-cell:/c%3A/Users/Junyup%20Kim/Desktop/KAIST/21Winter/Research/SIG-VAE-GIN-and-fMRI/sigvae_experiment.ipynb#ch0000000?line=0'>1</a>\u001b[0m \u001b[39mimport\u001b[39;00m \u001b[39mdgl\u001b[39;00m\n\u001b[0;32m      <a href='vscode-notebook-cell:/c%3A/Users/Junyup%20Kim/Desktop/KAIST/21Winter/Research/SIG-VAE-GIN-and-fMRI/sigvae_experiment.ipynb#ch0000000?line=1'>2</a>\u001b[0m \u001b[39mimport\u001b[39;00m \u001b[39mnumpy\u001b[39;00m \u001b[39mas\u001b[39;00m \u001b[39mnp\u001b[39;00m\n\u001b[0;32m      <a href='vscode-notebook-cell:/c%3A/Users/Junyup%20Kim/Desktop/KAIST/21Winter/Research/SIG-VAE-GIN-and-fMRI/sigvae_experiment.ipynb#ch0000000?line=2'>3</a>\u001b[0m \u001b[39mimport\u001b[39;00m \u001b[39mtorch\u001b[39;00m\n",
      "File \u001b[1;32mC:\\anaconda\\envs\\SIGVAE\\lib\\site-packages\\dgl\\__init__.py:16\u001b[0m, in \u001b[0;36m<module>\u001b[1;34m\u001b[0m\n\u001b[0;32m     <a href='file:///c%3A/anaconda/envs/SIGVAE/lib/site-packages/dgl/__init__.py?line=12'>13</a>\u001b[0m \u001b[39mfrom\u001b[39;00m \u001b[39m.\u001b[39;00m\u001b[39mlogging\u001b[39;00m \u001b[39mimport\u001b[39;00m enable_verbose_logging\n\u001b[0;32m     <a href='file:///c%3A/anaconda/envs/SIGVAE/lib/site-packages/dgl/__init__.py?line=14'>15</a>\u001b[0m \u001b[39m# Should import backend before importing anything else\u001b[39;00m\n\u001b[1;32m---> <a href='file:///c%3A/anaconda/envs/SIGVAE/lib/site-packages/dgl/__init__.py?line=15'>16</a>\u001b[0m \u001b[39mfrom\u001b[39;00m \u001b[39m.\u001b[39;00m\u001b[39mbackend\u001b[39;00m \u001b[39mimport\u001b[39;00m load_backend, backend_name\n\u001b[0;32m     <a href='file:///c%3A/anaconda/envs/SIGVAE/lib/site-packages/dgl/__init__.py?line=17'>18</a>\u001b[0m \u001b[39mfrom\u001b[39;00m \u001b[39m.\u001b[39;00m \u001b[39mimport\u001b[39;00m function\n\u001b[0;32m     <a href='file:///c%3A/anaconda/envs/SIGVAE/lib/site-packages/dgl/__init__.py?line=18'>19</a>\u001b[0m \u001b[39mfrom\u001b[39;00m \u001b[39m.\u001b[39;00m \u001b[39mimport\u001b[39;00m contrib\n",
      "File \u001b[1;32mC:\\anaconda\\envs\\SIGVAE\\lib\\site-packages\\dgl\\backend\\__init__.py:109\u001b[0m, in \u001b[0;36m<module>\u001b[1;34m\u001b[0m\n\u001b[0;32m    <a href='file:///c%3A/anaconda/envs/SIGVAE/lib/site-packages/dgl/backend/__init__.py?line=104'>105</a>\u001b[0m         set_default_backend(default_dir, \u001b[39m'\u001b[39m\u001b[39mpytorch\u001b[39m\u001b[39m'\u001b[39m)\n\u001b[0;32m    <a href='file:///c%3A/anaconda/envs/SIGVAE/lib/site-packages/dgl/backend/__init__.py?line=105'>106</a>\u001b[0m         \u001b[39mreturn\u001b[39;00m \u001b[39m'\u001b[39m\u001b[39mpytorch\u001b[39m\u001b[39m'\u001b[39m\n\u001b[1;32m--> <a href='file:///c%3A/anaconda/envs/SIGVAE/lib/site-packages/dgl/backend/__init__.py?line=108'>109</a>\u001b[0m load_backend(get_preferred_backend())\n\u001b[0;32m    <a href='file:///c%3A/anaconda/envs/SIGVAE/lib/site-packages/dgl/backend/__init__.py?line=111'>112</a>\u001b[0m \u001b[39mdef\u001b[39;00m \u001b[39mis_enabled\u001b[39m(api):\n\u001b[0;32m    <a href='file:///c%3A/anaconda/envs/SIGVAE/lib/site-packages/dgl/backend/__init__.py?line=112'>113</a>\u001b[0m     \u001b[39m\"\"\"Return true if the api is enabled by the current backend.\u001b[39;00m\n\u001b[0;32m    <a href='file:///c%3A/anaconda/envs/SIGVAE/lib/site-packages/dgl/backend/__init__.py?line=113'>114</a>\u001b[0m \n\u001b[0;32m    <a href='file:///c%3A/anaconda/envs/SIGVAE/lib/site-packages/dgl/backend/__init__.py?line=114'>115</a>\u001b[0m \u001b[39m    Parameters\u001b[39;00m\n\u001b[1;32m   (...)\u001b[0m\n\u001b[0;32m    <a href='file:///c%3A/anaconda/envs/SIGVAE/lib/site-packages/dgl/backend/__init__.py?line=122'>123</a>\u001b[0m \u001b[39m        True if the API is enabled by the current backend.\u001b[39;00m\n\u001b[0;32m    <a href='file:///c%3A/anaconda/envs/SIGVAE/lib/site-packages/dgl/backend/__init__.py?line=123'>124</a>\u001b[0m \u001b[39m    \"\"\"\u001b[39;00m\n",
      "File \u001b[1;32mC:\\anaconda\\envs\\SIGVAE\\lib\\site-packages\\dgl\\backend\\__init__.py:32\u001b[0m, in \u001b[0;36mload_backend\u001b[1;34m(mod_name)\u001b[0m\n\u001b[0;32m     <a href='file:///c%3A/anaconda/envs/SIGVAE/lib/site-packages/dgl/backend/__init__.py?line=22'>23</a>\u001b[0m \u001b[39mdef\u001b[39;00m \u001b[39mload_backend\u001b[39m(mod_name):\n\u001b[0;32m     <a href='file:///c%3A/anaconda/envs/SIGVAE/lib/site-packages/dgl/backend/__init__.py?line=23'>24</a>\u001b[0m     \u001b[39m# Load backend does four things:\u001b[39;00m\n\u001b[0;32m     <a href='file:///c%3A/anaconda/envs/SIGVAE/lib/site-packages/dgl/backend/__init__.py?line=24'>25</a>\u001b[0m     \u001b[39m# (1) Import backend framework (PyTorch, MXNet, Tensorflow, etc.)\u001b[39;00m\n\u001b[1;32m   (...)\u001b[0m\n\u001b[0;32m     <a href='file:///c%3A/anaconda/envs/SIGVAE/lib/site-packages/dgl/backend/__init__.py?line=28'>29</a>\u001b[0m     \u001b[39m# (4) Import the Python wrappers of the backend framework.  DGL does this last because\u001b[39;00m\n\u001b[0;32m     <a href='file:///c%3A/anaconda/envs/SIGVAE/lib/site-packages/dgl/backend/__init__.py?line=29'>30</a>\u001b[0m     \u001b[39m#     it already depends on both the backend framework and the DGL C library.\u001b[39;00m\n\u001b[0;32m     <a href='file:///c%3A/anaconda/envs/SIGVAE/lib/site-packages/dgl/backend/__init__.py?line=30'>31</a>\u001b[0m     \u001b[39mif\u001b[39;00m mod_name \u001b[39m==\u001b[39m \u001b[39m'\u001b[39m\u001b[39mpytorch\u001b[39m\u001b[39m'\u001b[39m:\n\u001b[1;32m---> <a href='file:///c%3A/anaconda/envs/SIGVAE/lib/site-packages/dgl/backend/__init__.py?line=31'>32</a>\u001b[0m         \u001b[39mimport\u001b[39;00m \u001b[39mtorch\u001b[39;00m\n\u001b[0;32m     <a href='file:///c%3A/anaconda/envs/SIGVAE/lib/site-packages/dgl/backend/__init__.py?line=32'>33</a>\u001b[0m         mod \u001b[39m=\u001b[39m torch\n\u001b[0;32m     <a href='file:///c%3A/anaconda/envs/SIGVAE/lib/site-packages/dgl/backend/__init__.py?line=33'>34</a>\u001b[0m     \u001b[39melif\u001b[39;00m mod_name \u001b[39m==\u001b[39m \u001b[39m'\u001b[39m\u001b[39mmxnet\u001b[39m\u001b[39m'\u001b[39m:\n",
      "File \u001b[1;32mC:\\anaconda\\envs\\SIGVAE\\lib\\site-packages\\torch\\__init__.py:229\u001b[0m, in \u001b[0;36m<module>\u001b[1;34m\u001b[0m\n\u001b[0;32m    <a href='file:///c%3A/anaconda/envs/SIGVAE/lib/site-packages/torch/__init__.py?line=213'>214</a>\u001b[0m         \u001b[39mraise\u001b[39;00m \u001b[39mImportError\u001b[39;00m(textwrap\u001b[39m.\u001b[39mdedent(\u001b[39m'''\u001b[39m\n\u001b[0;32m    <a href='file:///c%3A/anaconda/envs/SIGVAE/lib/site-packages/torch/__init__.py?line=214'>215</a>\u001b[0m \u001b[39m            Failed to load PyTorch C extensions:\u001b[39m\n\u001b[0;32m    <a href='file:///c%3A/anaconda/envs/SIGVAE/lib/site-packages/torch/__init__.py?line=215'>216</a>\u001b[0m \u001b[39m                It appears that PyTorch has loaded the `torch/_C` folder\u001b[39m\n\u001b[1;32m   (...)\u001b[0m\n\u001b[0;32m    <a href='file:///c%3A/anaconda/envs/SIGVAE/lib/site-packages/torch/__init__.py?line=223'>224</a>\u001b[0m \u001b[39m                or by running Python from a different directory.\u001b[39m\n\u001b[0;32m    <a href='file:///c%3A/anaconda/envs/SIGVAE/lib/site-packages/torch/__init__.py?line=224'>225</a>\u001b[0m \u001b[39m            \u001b[39m\u001b[39m'''\u001b[39m)\u001b[39m.\u001b[39mstrip()) \u001b[39mfrom\u001b[39;00m \u001b[39mNone\u001b[39m\n\u001b[0;32m    <a href='file:///c%3A/anaconda/envs/SIGVAE/lib/site-packages/torch/__init__.py?line=225'>226</a>\u001b[0m     \u001b[39mraise\u001b[39;00m  \u001b[39m# If __file__ is not None the cause is unknown, so just re-raise.\u001b[39;00m\n\u001b[1;32m--> <a href='file:///c%3A/anaconda/envs/SIGVAE/lib/site-packages/torch/__init__.py?line=228'>229</a>\u001b[0m __all__ \u001b[39m+\u001b[39m\u001b[39m=\u001b[39m [name \u001b[39mfor\u001b[39;00m name \u001b[39min\u001b[39;00m \u001b[39mdir\u001b[39m(_C)\n\u001b[0;32m    <a href='file:///c%3A/anaconda/envs/SIGVAE/lib/site-packages/torch/__init__.py?line=229'>230</a>\u001b[0m             \u001b[39mif\u001b[39;00m name[\u001b[39m0\u001b[39m] \u001b[39m!=\u001b[39m \u001b[39m'\u001b[39m\u001b[39m_\u001b[39m\u001b[39m'\u001b[39m \u001b[39mand\u001b[39;00m\n\u001b[0;32m    <a href='file:///c%3A/anaconda/envs/SIGVAE/lib/site-packages/torch/__init__.py?line=230'>231</a>\u001b[0m             \u001b[39mnot\u001b[39;00m name\u001b[39m.\u001b[39mendswith(\u001b[39m'\u001b[39m\u001b[39mBase\u001b[39m\u001b[39m'\u001b[39m)]\n\u001b[0;32m    <a href='file:///c%3A/anaconda/envs/SIGVAE/lib/site-packages/torch/__init__.py?line=232'>233</a>\u001b[0m \u001b[39mif\u001b[39;00m \u001b[39mnot\u001b[39;00m TYPE_CHECKING:\n\u001b[0;32m    <a href='file:///c%3A/anaconda/envs/SIGVAE/lib/site-packages/torch/__init__.py?line=233'>234</a>\u001b[0m     \u001b[39m# issue 38137 and python issue 43367. Submodules of a C extension are\u001b[39;00m\n\u001b[0;32m    <a href='file:///c%3A/anaconda/envs/SIGVAE/lib/site-packages/torch/__init__.py?line=234'>235</a>\u001b[0m     \u001b[39m# non-standard, and attributes of those submodules cannot be pickled since\u001b[39;00m\n\u001b[0;32m    <a href='file:///c%3A/anaconda/envs/SIGVAE/lib/site-packages/torch/__init__.py?line=235'>236</a>\u001b[0m     \u001b[39m# pickle expect to be able to import them as \"from _C.sub import attr\"\u001b[39;00m\n\u001b[0;32m    <a href='file:///c%3A/anaconda/envs/SIGVAE/lib/site-packages/torch/__init__.py?line=236'>237</a>\u001b[0m     \u001b[39m# which fails with \"_C is not a package\u001b[39;00m\n\u001b[0;32m    <a href='file:///c%3A/anaconda/envs/SIGVAE/lib/site-packages/torch/__init__.py?line=237'>238</a>\u001b[0m     \u001b[39mfor\u001b[39;00m attr \u001b[39min\u001b[39;00m \u001b[39mdir\u001b[39m(_C):\n",
      "\u001b[1;31mNameError\u001b[0m: name '_C' is not defined"
     ]
    }
   ],
   "source": [
    "import dgl.data\n",
    "import numpy as np\n",
    "import torch\n",
    "import torch.nn as nn\n",
    "import dgl.data\n",
    "import networkx as nx\n",
    "import scipy.sparse as sp\n",
    "from sklearn.metrics import roc_auc_score\n",
    "from sigvaemodel import *\n",
    "from loss import get_rec, loss\n",
    "import time\n",
    "\n",
    "CoraDataset=dgl.data.CoraGraphDataset()\n",
    "graph=CoraDataset[0]\n",
    "featureMatrix=graph.ndata['feat']\n",
    "featureMatrix=featureMatrix.view(1, featureMatrix.shape[0], featureMatrix.shape[1])\n",
    "print(featureMatrix.size())\n",
    "print(featureMatrix)"
   ]
  },
  {
   "cell_type": "code",
   "execution_count": 2,
   "metadata": {},
   "outputs": [],
   "source": [
    "def edges_to_lists(headMatrix, tailMatrix):\n",
    "    results=[]\n",
    "    assert len(headMatrix)==len(tailMatrix)\n",
    "    hlength=len(headMatrix)\n",
    "    for i in range(hlength):\n",
    "        results.append([headMatrix[i], tailMatrix[i]])\n",
    "    return results"
   ]
  },
  {
   "cell_type": "code",
   "execution_count": 3,
   "metadata": {},
   "outputs": [],
   "source": [
    "def preprocess(graph):\n",
    "    N=graph.num_nodes()\n",
    "    u, v=graph.edges()\n",
    "    testidx=np.arange(graph.number_of_edges())\n",
    "    testidx=np.random.permutation(testidx)\n",
    "    testSize=int(len(testidx)/10)\n",
    "    train_size=graph.number_of_edges()-testSize\n",
    "    test_pos_u, test_pos_v=u[testidx[:testSize]], v[testidx[:testSize]]\n",
    "    train_pos_u, train_pos_v = u[testidx[testSize:]], v[testidx[testSize:]]\n",
    "\n",
    "    print(test_pos_u.size())\n",
    "    print(test_pos_v.size())\n",
    "    print(train_pos_u.size())\n",
    "    print(train_pos_v.size())\n",
    "    adj=sp.coo_matrix((np.ones(len(u)), (u.numpy(), v.numpy())))\n",
    "    adj_neg=1-adj.todense()-np.eye(graph.number_of_nodes())\n",
    "    adj=torch.Tensor(adj.todense())\n",
    "    neg_u, neg_v=np.where(adj_neg!=0)\n",
    "    #print(len(neg_u))\n",
    "    #print(len(neg_v))\n",
    "    neg_testidx=np.random.choice(len(neg_u), graph.number_of_edges())\n",
    "    test_neg_u, test_neg_v=neg_u[neg_testidx[:testSize]], neg_v[neg_testidx[:testSize]]\n",
    "    train_neg_u, train_neg_v=neg_u[neg_testidx[testSize:]], neg_v[neg_testidx[testSize:]]\n",
    "    #print(test_neg_u)\n",
    "    #print(test_neg_v)\n",
    "    adj_train=sp.coo_matrix((np.ones(len(train_pos_u)), (train_pos_u.numpy(), train_pos_v.numpy())),shape=(N, N))\n",
    "    print(adj_train.shape)\n",
    "    adj_train=adj_train-sp.dia_matrix((adj_train.diagonal()[np.newaxis, :], [0]), shape=adj_train.shape)\n",
    "    adj_train=torch.Tensor(adj_train.todense())\n",
    "    print(adj_train.shape)\n",
    "    adj_test=sp.coo_matrix((np.ones(len(test_pos_u)), (test_pos_u.numpy(), test_pos_v.numpy())))\n",
    "    adj_test=adj_test-sp.dia_matrix((adj_test.diagonal()[np.newaxis, :], [0]), shape=adj_test.shape)\n",
    "    adj_test=torch.Tensor(adj_test.todense())\n",
    "    train_graph=dgl.remove_edges(graph, testidx[:testSize])\n",
    "    train_pos=edges_to_lists(train_pos_u, train_pos_v)\n",
    "    test_pos=edges_to_lists(test_pos_u, test_pos_v)\n",
    "    test_neg=edges_to_lists(test_neg_u, test_neg_v)\n",
    "    train_neg=edges_to_lists(train_neg_u, train_neg_v)\n",
    "    \n",
    "    featureMatrix=graph.ndata['feat']\n",
    "        \n",
    "    \n",
    "    return adj, adj_train, adj_test, featureMatrix, train_graph, train_pos, test_pos, train_neg, test_neg\n"
   ]
  },
  {
   "cell_type": "code",
   "execution_count": 4,
   "metadata": {},
   "outputs": [],
   "source": [
    "def step(model, adj, feat, epoch, optimizer, device='cpu'):\n",
    "    if optimizer is None:\n",
    "        model.eval()\n",
    "    else:\n",
    "        model.train()\n",
    "    \n",
    "    generated_prob, mu, sigma, latent_representation, Z, epsilon=model.forward(adj.to(device), feat.to(device))\n",
    "    loss_rec, loss_prior, loss_post=loss(adj, mu, sigma, Z, latent_representation)\n",
    "    loss=loss_rec+loss_prior+loss_post\n",
    "    \n",
    "    WarmingUP=np.min([epoch/300, 1])\n",
    "    reg=(loss_post-loss_prior) * WarmingUP / (adj.size(0)**2)\n",
    "    loss_train=loss_rec+WarmingUP*reg\n",
    "    \n",
    "    if optimizer is not None:\n",
    "        optimizer.zero_grad()\n",
    "        loss_train.backward()\n",
    "        optimizer.step()\n",
    "    return latent_representation, generated_prob, loss_train"
   ]
  },
  {
   "cell_type": "code",
   "execution_count": 5,
   "metadata": {},
   "outputs": [],
   "source": [
    "def get_auc(embedding, pos_edges, neg_edges):\n",
    "    pos_array=np.array(pos_edges) #(2, #positive edges)\n",
    "    neg_array=np.array(neg_edges) #(2, #negative edges)\n",
    "    emb_pos_head=embedding[:, pos_array[0], :]\n",
    "    emb_pos_tail=embedding[:, pos_array[1], :]\n",
    "    preds_pos=np.einsum('abc, abc->ab', emb_pos_head, emb_pos_tail)\n",
    "    \n",
    "    emb_neg_head=embedding[:, neg_array[0], :]\n",
    "    emb_neg_tail=embedding[:, neg_array[1], :]\n",
    "    preds_neg=np.einsum('abc, abc->ab', emb_neg_head, emb_neg_tail)\n",
    "    \n",
    "    preds=torch.cat([preds_pos, preds_neg], dim=0).numpy()\n",
    "    labels=torch.cat([torch.ones(preds_pos.shape[-1]), torch.zeros(preds_neg.shape[-1])]).numpy()\n",
    "    \n",
    "    roc=torch.Tensor([roc_auc_score(labels, pred.flatten()) for pred in torch.split(preds, embedding.shape[0])].mean())\n",
    "    \n",
    "    return roc"
   ]
  },
  {
   "cell_type": "code",
   "execution_count": 6,
   "metadata": {},
   "outputs": [
    {
     "name": "stdout",
     "output_type": "stream",
     "text": [
      "torch.Size([1055])\n",
      "torch.Size([1055])\n",
      "torch.Size([9501])\n",
      "torch.Size([9501])\n",
      "(2708, 2708)\n",
      "torch.Size([2708, 2708])\n",
      "torch.Size([35, 2708, 1433])\n",
      "torch.Size([35, 2708, 64])\n",
      "torch.Size([35, 2708, 1])\n"
     ]
    },
    {
     "ename": "MemoryError",
     "evalue": "",
     "output_type": "error",
     "traceback": [
      "\u001b[1;31m---------------------------------------------------------------------------\u001b[0m",
      "\u001b[1;31mMemoryError\u001b[0m                               Traceback (most recent call last)",
      "\u001b[1;32mc:\\Users\\Junyup Kim\\Desktop\\KAIST\\21Winter\\Research\\SIG-VAE-GIN-and-fMRI\\sigvae_experiment.ipynb Cell 6'\u001b[0m in \u001b[0;36m<cell line: 20>\u001b[1;34m()\u001b[0m\n\u001b[0;32m     <a href='vscode-notebook-cell:/c%3A/Users/Junyup%20Kim/Desktop/KAIST/21Winter/Research/SIG-VAE-GIN-and-fMRI/sigvae_experiment.ipynb#ch0000005?line=21'>22</a>\u001b[0m model\u001b[39m.\u001b[39mtrain()\n\u001b[0;32m     <a href='vscode-notebook-cell:/c%3A/Users/Junyup%20Kim/Desktop/KAIST/21Winter/Research/SIG-VAE-GIN-and-fMRI/sigvae_experiment.ipynb#ch0000005?line=22'>23</a>\u001b[0m optimizer\u001b[39m.\u001b[39mzero_grad()\n\u001b[1;32m---> <a href='vscode-notebook-cell:/c%3A/Users/Junyup%20Kim/Desktop/KAIST/21Winter/Research/SIG-VAE-GIN-and-fMRI/sigvae_experiment.ipynb#ch0000005?line=23'>24</a>\u001b[0m generated_prob, mu, sigma, latent_representation, z_proc, epsilon\u001b[39m=\u001b[39mmodel(adj_train, featureMatrix)\n\u001b[0;32m     <a href='vscode-notebook-cell:/c%3A/Users/Junyup%20Kim/Desktop/KAIST/21Winter/Research/SIG-VAE-GIN-and-fMRI/sigvae_experiment.ipynb#ch0000005?line=24'>25</a>\u001b[0m loss_accumulate\u001b[39m=\u001b[39m\u001b[39m0\u001b[39m\n\u001b[0;32m     <a href='vscode-notebook-cell:/c%3A/Users/Junyup%20Kim/Desktop/KAIST/21Winter/Research/SIG-VAE-GIN-and-fMRI/sigvae_experiment.ipynb#ch0000005?line=25'>26</a>\u001b[0m latent_representation, generated_prob, loss_train\u001b[39m=\u001b[39mstep(model, adj_train, featMatrix, epc, optimizer, device\u001b[39m=\u001b[39m\u001b[39m'\u001b[39m\u001b[39mcpu\u001b[39m\u001b[39m'\u001b[39m)\n",
      "File \u001b[1;32mC:\\anaconda\\envs\\SIGVAE\\lib\\site-packages\\torch\\nn\\modules\\module.py:1102\u001b[0m, in \u001b[0;36mModule._call_impl\u001b[1;34m(self, *input, **kwargs)\u001b[0m\n\u001b[0;32m   <a href='file:///c%3A/anaconda/envs/SIGVAE/lib/site-packages/torch/nn/modules/module.py?line=1097'>1098</a>\u001b[0m \u001b[39m# If we don't have any hooks, we want to skip the rest of the logic in\u001b[39;00m\n\u001b[0;32m   <a href='file:///c%3A/anaconda/envs/SIGVAE/lib/site-packages/torch/nn/modules/module.py?line=1098'>1099</a>\u001b[0m \u001b[39m# this function, and just call forward.\u001b[39;00m\n\u001b[0;32m   <a href='file:///c%3A/anaconda/envs/SIGVAE/lib/site-packages/torch/nn/modules/module.py?line=1099'>1100</a>\u001b[0m \u001b[39mif\u001b[39;00m \u001b[39mnot\u001b[39;00m (\u001b[39mself\u001b[39m\u001b[39m.\u001b[39m_backward_hooks \u001b[39mor\u001b[39;00m \u001b[39mself\u001b[39m\u001b[39m.\u001b[39m_forward_hooks \u001b[39mor\u001b[39;00m \u001b[39mself\u001b[39m\u001b[39m.\u001b[39m_forward_pre_hooks \u001b[39mor\u001b[39;00m _global_backward_hooks\n\u001b[0;32m   <a href='file:///c%3A/anaconda/envs/SIGVAE/lib/site-packages/torch/nn/modules/module.py?line=1100'>1101</a>\u001b[0m         \u001b[39mor\u001b[39;00m _global_forward_hooks \u001b[39mor\u001b[39;00m _global_forward_pre_hooks):\n\u001b[1;32m-> <a href='file:///c%3A/anaconda/envs/SIGVAE/lib/site-packages/torch/nn/modules/module.py?line=1101'>1102</a>\u001b[0m     \u001b[39mreturn\u001b[39;00m forward_call(\u001b[39m*\u001b[39m\u001b[39minput\u001b[39m, \u001b[39m*\u001b[39m\u001b[39m*\u001b[39mkwargs)\n\u001b[0;32m   <a href='file:///c%3A/anaconda/envs/SIGVAE/lib/site-packages/torch/nn/modules/module.py?line=1102'>1103</a>\u001b[0m \u001b[39m# Do not call functions when jit is used\u001b[39;00m\n\u001b[0;32m   <a href='file:///c%3A/anaconda/envs/SIGVAE/lib/site-packages/torch/nn/modules/module.py?line=1103'>1104</a>\u001b[0m full_backward_hooks, non_full_backward_hooks \u001b[39m=\u001b[39m [], []\n",
      "File \u001b[1;32mc:\\Users\\Junyup Kim\\Desktop\\KAIST\\21Winter\\Research\\SIG-VAE-GIN-and-fMRI\\sigvaemodel.py:188\u001b[0m, in \u001b[0;36mSIGVAE_GIN.forward\u001b[1;34m(self, adj_matrix, feat_matrix)\u001b[0m\n\u001b[0;32m    <a href='file:///c%3A/Users/Junyup%20Kim/Desktop/KAIST/21Winter/Research/SIG-VAE-GIN-and-fMRI/sigvaemodel.py?line=185'>186</a>\u001b[0m \u001b[39mself\u001b[39m\u001b[39m.\u001b[39madj_matrix\u001b[39m=\u001b[39madj_matrix\n\u001b[0;32m    <a href='file:///c%3A/Users/Junyup%20Kim/Desktop/KAIST/21Winter/Research/SIG-VAE-GIN-and-fMRI/sigvaemodel.py?line=186'>187</a>\u001b[0m \u001b[39mself\u001b[39m\u001b[39m.\u001b[39mfeat_matrix\u001b[39m=\u001b[39mfeat_matrix\n\u001b[1;32m--> <a href='file:///c%3A/Users/Junyup%20Kim/Desktop/KAIST/21Winter/Research/SIG-VAE-GIN-and-fMRI/sigvaemodel.py?line=187'>188</a>\u001b[0m \u001b[39mself\u001b[39m\u001b[39m.\u001b[39mlatent_representation, \u001b[39mself\u001b[39m\u001b[39m.\u001b[39mmu, \u001b[39mself\u001b[39m\u001b[39m.\u001b[39msigma, \u001b[39mself\u001b[39m\u001b[39m.\u001b[39mepsilon\u001b[39m=\u001b[39m\u001b[39mself\u001b[39;49m\u001b[39m.\u001b[39;49mencoder\u001b[39m.\u001b[39;49mencode(adj_matrix, feat_matrix)\n\u001b[0;32m    <a href='file:///c%3A/Users/Junyup%20Kim/Desktop/KAIST/21Winter/Research/SIG-VAE-GIN-and-fMRI/sigvaemodel.py?line=188'>189</a>\u001b[0m \u001b[39mif\u001b[39;00m \u001b[39mself\u001b[39m\u001b[39m.\u001b[39mdecoder_type\u001b[39m==\u001b[39m\u001b[39m\"\u001b[39m\u001b[39minner\u001b[39m\u001b[39m\"\u001b[39m:\n\u001b[0;32m    <a href='file:///c%3A/Users/Junyup%20Kim/Desktop/KAIST/21Winter/Research/SIG-VAE-GIN-and-fMRI/sigvaemodel.py?line=189'>190</a>\u001b[0m     \u001b[39mself\u001b[39m\u001b[39m.\u001b[39mgenerated_prob, \u001b[39mself\u001b[39m\u001b[39m.\u001b[39mZ\u001b[39m=\u001b[39m\u001b[39mself\u001b[39m\u001b[39m.\u001b[39mdecoder\u001b[39m.\u001b[39mrunDecoder(\u001b[39mself\u001b[39m\u001b[39m.\u001b[39mlatent_representation)\n",
      "File \u001b[1;32mc:\\Users\\Junyup Kim\\Desktop\\KAIST\\21Winter\\Research\\SIG-VAE-GIN-and-fMRI\\sigvaemodel.py:148\u001b[0m, in \u001b[0;36mEncoder.encode\u001b[1;34m(self, A, X)\u001b[0m\n\u001b[0;32m    <a href='file:///c%3A/Users/Junyup%20Kim/Desktop/KAIST/21Winter/Research/SIG-VAE-GIN-and-fMRI/sigvaemodel.py?line=145'>146</a>\u001b[0m \u001b[39mdef\u001b[39;00m \u001b[39mencode\u001b[39m(\u001b[39mself\u001b[39m, A, X):\n\u001b[0;32m    <a href='file:///c%3A/Users/Junyup%20Kim/Desktop/KAIST/21Winter/Research/SIG-VAE-GIN-and-fMRI/sigvaemodel.py?line=146'>147</a>\u001b[0m     h\u001b[39m=\u001b[39mtorch\u001b[39m.\u001b[39mzeros(\u001b[39m1\u001b[39m, \u001b[39m1\u001b[39m, \u001b[39m1\u001b[39m)\n\u001b[1;32m--> <a href='file:///c%3A/Users/Junyup%20Kim/Desktop/KAIST/21Winter/Research/SIG-VAE-GIN-and-fMRI/sigvaemodel.py?line=147'>148</a>\u001b[0m     h, epsilon\u001b[39m=\u001b[39m\u001b[39mself\u001b[39;49m\u001b[39m.\u001b[39;49mGINu\u001b[39m.\u001b[39;49mforward(A, X, h)\n\u001b[0;32m    <a href='file:///c%3A/Users/Junyup%20Kim/Desktop/KAIST/21Winter/Research/SIG-VAE-GIN-and-fMRI/sigvaemodel.py?line=148'>149</a>\u001b[0m     hL\u001b[39m=\u001b[39mtorch\u001b[39m.\u001b[39mclone(h)\n\u001b[0;32m    <a href='file:///c%3A/Users/Junyup%20Kim/Desktop/KAIST/21Winter/Research/SIG-VAE-GIN-and-fMRI/sigvaemodel.py?line=149'>150</a>\u001b[0m     \u001b[39m#hL's shape : (K+J, N, output_dim_u)\u001b[39;00m\n",
      "File \u001b[1;32mc:\\Users\\Junyup Kim\\Desktop\\KAIST\\21Winter\\Research\\SIG-VAE-GIN-and-fMRI\\sigvaemodel.py:79\u001b[0m, in \u001b[0;36mGIN.forward\u001b[1;34m(self, A, X, h)\u001b[0m\n\u001b[0;32m     <a href='file:///c%3A/Users/Junyup%20Kim/Desktop/KAIST/21Winter/Research/SIG-VAE-GIN-and-fMRI/sigvaemodel.py?line=76'>77</a>\u001b[0m \u001b[39mfor\u001b[39;00m i \u001b[39min\u001b[39;00m \u001b[39mrange\u001b[39m(\u001b[39mself\u001b[39m\u001b[39m.\u001b[39msample_size):\n\u001b[0;32m     <a href='file:///c%3A/Users/Junyup%20Kim/Desktop/KAIST/21Winter/Research/SIG-VAE-GIN-and-fMRI/sigvaemodel.py?line=77'>78</a>\u001b[0m     \u001b[39mself\u001b[39m\u001b[39m.\u001b[39mtempNumpy\u001b[39m=\u001b[39mtorch\u001b[39m.\u001b[39mclone(temp[i,:,:])\u001b[39m.\u001b[39mnumpy()\n\u001b[1;32m---> <a href='file:///c%3A/Users/Junyup%20Kim/Desktop/KAIST/21Winter/Research/SIG-VAE-GIN-and-fMRI/sigvaemodel.py?line=78'>79</a>\u001b[0m     \u001b[39mself\u001b[39m\u001b[39m.\u001b[39minputGraphGIN\u001b[39m=\u001b[39mgraph_generator(\u001b[39mself\u001b[39;49m\u001b[39m.\u001b[39;49madjMatrixNumpy, \u001b[39mself\u001b[39;49m\u001b[39m.\u001b[39;49mtempNumpy) \n\u001b[0;32m     <a href='file:///c%3A/Users/Junyup%20Kim/Desktop/KAIST/21Winter/Research/SIG-VAE-GIN-and-fMRI/sigvaemodel.py?line=79'>80</a>\u001b[0m     \u001b[39mfor\u001b[39;00m layer \u001b[39min\u001b[39;00m \u001b[39mself\u001b[39m\u001b[39m.\u001b[39mGINLayers:       \n\u001b[0;32m     <a href='file:///c%3A/Users/Junyup%20Kim/Desktop/KAIST/21Winter/Research/SIG-VAE-GIN-and-fMRI/sigvaemodel.py?line=80'>81</a>\u001b[0m         temp\u001b[39m=\u001b[39mlayer\u001b[39m.\u001b[39mforward(\u001b[39mself\u001b[39m\u001b[39m.\u001b[39minputGraphGIN, temp, edge_weight\u001b[39m=\u001b[39m\u001b[39mNone\u001b[39;00m)\n",
      "File \u001b[1;32mc:\\Users\\Junyup Kim\\Desktop\\KAIST\\21Winter\\Research\\SIG-VAE-GIN-and-fMRI\\sigvaemodel.py:21\u001b[0m, in \u001b[0;36mgraph_generator\u001b[1;34m(A, subX)\u001b[0m\n\u001b[0;32m     <a href='file:///c%3A/Users/Junyup%20Kim/Desktop/KAIST/21Winter/Research/SIG-VAE-GIN-and-fMRI/sigvaemodel.py?line=18'>19</a>\u001b[0m \u001b[39mfor\u001b[39;00m index \u001b[39min\u001b[39;00m \u001b[39mrange\u001b[39m(A\u001b[39m.\u001b[39mshape[\u001b[39m0\u001b[39m]):\n\u001b[0;32m     <a href='file:///c%3A/Users/Junyup%20Kim/Desktop/KAIST/21Winter/Research/SIG-VAE-GIN-and-fMRI/sigvaemodel.py?line=19'>20</a>\u001b[0m     tempGraph\u001b[39m.\u001b[39mnodes[index]\u001b[39m.\u001b[39mupdate(subXd)\n\u001b[1;32m---> <a href='file:///c%3A/Users/Junyup%20Kim/Desktop/KAIST/21Winter/Research/SIG-VAE-GIN-and-fMRI/sigvaemodel.py?line=20'>21</a>\u001b[0m tempGraph\u001b[39m=\u001b[39mtempGraph\u001b[39m.\u001b[39;49mto_directed()\n\u001b[0;32m     <a href='file:///c%3A/Users/Junyup%20Kim/Desktop/KAIST/21Winter/Research/SIG-VAE-GIN-and-fMRI/sigvaemodel.py?line=22'>23</a>\u001b[0m finalGraph\u001b[39m=\u001b[39mdgl\u001b[39m.\u001b[39mfrom_networkx(tempGraph, node_attrs\u001b[39m=\u001b[39m[\u001b[39m'\u001b[39m\u001b[39mnode_feature\u001b[39m\u001b[39m'\u001b[39m], edge_attrs\u001b[39m=\u001b[39m[\u001b[39m'\u001b[39m\u001b[39mweight\u001b[39m\u001b[39m'\u001b[39m])\n\u001b[0;32m     <a href='file:///c%3A/Users/Junyup%20Kim/Desktop/KAIST/21Winter/Research/SIG-VAE-GIN-and-fMRI/sigvaemodel.py?line=23'>24</a>\u001b[0m \u001b[39mreturn\u001b[39;00m finalGraph\n",
      "File \u001b[1;32mC:\\anaconda\\envs\\SIGVAE\\lib\\site-packages\\networkx\\classes\\graph.py:1599\u001b[0m, in \u001b[0;36mGraph.to_directed\u001b[1;34m(self, as_view)\u001b[0m\n\u001b[0;32m   <a href='file:///c%3A/anaconda/envs/SIGVAE/lib/site-packages/networkx/classes/graph.py?line=1596'>1597</a>\u001b[0m G \u001b[39m=\u001b[39m graph_class()\n\u001b[0;32m   <a href='file:///c%3A/anaconda/envs/SIGVAE/lib/site-packages/networkx/classes/graph.py?line=1597'>1598</a>\u001b[0m G\u001b[39m.\u001b[39mgraph\u001b[39m.\u001b[39mupdate(deepcopy(\u001b[39mself\u001b[39m\u001b[39m.\u001b[39mgraph))\n\u001b[1;32m-> <a href='file:///c%3A/anaconda/envs/SIGVAE/lib/site-packages/networkx/classes/graph.py?line=1598'>1599</a>\u001b[0m G\u001b[39m.\u001b[39;49madd_nodes_from((n, deepcopy(d)) \u001b[39mfor\u001b[39;49;00m n, d \u001b[39min\u001b[39;49;00m \u001b[39mself\u001b[39;49m\u001b[39m.\u001b[39;49m_node\u001b[39m.\u001b[39;49mitems())\n\u001b[0;32m   <a href='file:///c%3A/anaconda/envs/SIGVAE/lib/site-packages/networkx/classes/graph.py?line=1599'>1600</a>\u001b[0m G\u001b[39m.\u001b[39madd_edges_from(\n\u001b[0;32m   <a href='file:///c%3A/anaconda/envs/SIGVAE/lib/site-packages/networkx/classes/graph.py?line=1600'>1601</a>\u001b[0m     (u, v, deepcopy(data))\n\u001b[0;32m   <a href='file:///c%3A/anaconda/envs/SIGVAE/lib/site-packages/networkx/classes/graph.py?line=1601'>1602</a>\u001b[0m     \u001b[39mfor\u001b[39;00m u, nbrs \u001b[39min\u001b[39;00m \u001b[39mself\u001b[39m\u001b[39m.\u001b[39m_adj\u001b[39m.\u001b[39mitems()\n\u001b[0;32m   <a href='file:///c%3A/anaconda/envs/SIGVAE/lib/site-packages/networkx/classes/graph.py?line=1602'>1603</a>\u001b[0m     \u001b[39mfor\u001b[39;00m v, data \u001b[39min\u001b[39;00m nbrs\u001b[39m.\u001b[39mitems()\n\u001b[0;32m   <a href='file:///c%3A/anaconda/envs/SIGVAE/lib/site-packages/networkx/classes/graph.py?line=1603'>1604</a>\u001b[0m )\n\u001b[0;32m   <a href='file:///c%3A/anaconda/envs/SIGVAE/lib/site-packages/networkx/classes/graph.py?line=1604'>1605</a>\u001b[0m \u001b[39mreturn\u001b[39;00m G\n",
      "File \u001b[1;32mC:\\anaconda\\envs\\SIGVAE\\lib\\site-packages\\networkx\\classes\\digraph.py:472\u001b[0m, in \u001b[0;36mDiGraph.add_nodes_from\u001b[1;34m(self, nodes_for_adding, **attr)\u001b[0m\n\u001b[0;32m    <a href='file:///c%3A/anaconda/envs/SIGVAE/lib/site-packages/networkx/classes/digraph.py?line=427'>428</a>\u001b[0m \u001b[39mdef\u001b[39;00m \u001b[39madd_nodes_from\u001b[39m(\u001b[39mself\u001b[39m, nodes_for_adding, \u001b[39m*\u001b[39m\u001b[39m*\u001b[39mattr):\n\u001b[0;32m    <a href='file:///c%3A/anaconda/envs/SIGVAE/lib/site-packages/networkx/classes/digraph.py?line=428'>429</a>\u001b[0m     \u001b[39m\"\"\"Add multiple nodes.\u001b[39;00m\n\u001b[0;32m    <a href='file:///c%3A/anaconda/envs/SIGVAE/lib/site-packages/networkx/classes/digraph.py?line=429'>430</a>\u001b[0m \n\u001b[0;32m    <a href='file:///c%3A/anaconda/envs/SIGVAE/lib/site-packages/networkx/classes/digraph.py?line=430'>431</a>\u001b[0m \u001b[39m    Parameters\u001b[39;00m\n\u001b[1;32m   (...)\u001b[0m\n\u001b[0;32m    <a href='file:///c%3A/anaconda/envs/SIGVAE/lib/site-packages/networkx/classes/digraph.py?line=469'>470</a>\u001b[0m \n\u001b[0;32m    <a href='file:///c%3A/anaconda/envs/SIGVAE/lib/site-packages/networkx/classes/digraph.py?line=470'>471</a>\u001b[0m \u001b[39m    \"\"\"\u001b[39;00m\n\u001b[1;32m--> <a href='file:///c%3A/anaconda/envs/SIGVAE/lib/site-packages/networkx/classes/digraph.py?line=471'>472</a>\u001b[0m     \u001b[39mfor\u001b[39;00m n \u001b[39min\u001b[39;00m nodes_for_adding:\n\u001b[0;32m    <a href='file:///c%3A/anaconda/envs/SIGVAE/lib/site-packages/networkx/classes/digraph.py?line=472'>473</a>\u001b[0m         \u001b[39mtry\u001b[39;00m:\n\u001b[0;32m    <a href='file:///c%3A/anaconda/envs/SIGVAE/lib/site-packages/networkx/classes/digraph.py?line=473'>474</a>\u001b[0m             newnode \u001b[39m=\u001b[39m n \u001b[39mnot\u001b[39;00m \u001b[39min\u001b[39;00m \u001b[39mself\u001b[39m\u001b[39m.\u001b[39m_node\n",
      "File \u001b[1;32mC:\\anaconda\\envs\\SIGVAE\\lib\\site-packages\\networkx\\classes\\graph.py:1599\u001b[0m, in \u001b[0;36m<genexpr>\u001b[1;34m(.0)\u001b[0m\n\u001b[0;32m   <a href='file:///c%3A/anaconda/envs/SIGVAE/lib/site-packages/networkx/classes/graph.py?line=1596'>1597</a>\u001b[0m G \u001b[39m=\u001b[39m graph_class()\n\u001b[0;32m   <a href='file:///c%3A/anaconda/envs/SIGVAE/lib/site-packages/networkx/classes/graph.py?line=1597'>1598</a>\u001b[0m G\u001b[39m.\u001b[39mgraph\u001b[39m.\u001b[39mupdate(deepcopy(\u001b[39mself\u001b[39m\u001b[39m.\u001b[39mgraph))\n\u001b[1;32m-> <a href='file:///c%3A/anaconda/envs/SIGVAE/lib/site-packages/networkx/classes/graph.py?line=1598'>1599</a>\u001b[0m G\u001b[39m.\u001b[39madd_nodes_from((n, deepcopy(d)) \u001b[39mfor\u001b[39;00m n, d \u001b[39min\u001b[39;00m \u001b[39mself\u001b[39m\u001b[39m.\u001b[39m_node\u001b[39m.\u001b[39mitems())\n\u001b[0;32m   <a href='file:///c%3A/anaconda/envs/SIGVAE/lib/site-packages/networkx/classes/graph.py?line=1599'>1600</a>\u001b[0m G\u001b[39m.\u001b[39madd_edges_from(\n\u001b[0;32m   <a href='file:///c%3A/anaconda/envs/SIGVAE/lib/site-packages/networkx/classes/graph.py?line=1600'>1601</a>\u001b[0m     (u, v, deepcopy(data))\n\u001b[0;32m   <a href='file:///c%3A/anaconda/envs/SIGVAE/lib/site-packages/networkx/classes/graph.py?line=1601'>1602</a>\u001b[0m     \u001b[39mfor\u001b[39;00m u, nbrs \u001b[39min\u001b[39;00m \u001b[39mself\u001b[39m\u001b[39m.\u001b[39m_adj\u001b[39m.\u001b[39mitems()\n\u001b[0;32m   <a href='file:///c%3A/anaconda/envs/SIGVAE/lib/site-packages/networkx/classes/graph.py?line=1602'>1603</a>\u001b[0m     \u001b[39mfor\u001b[39;00m v, data \u001b[39min\u001b[39;00m nbrs\u001b[39m.\u001b[39mitems()\n\u001b[0;32m   <a href='file:///c%3A/anaconda/envs/SIGVAE/lib/site-packages/networkx/classes/graph.py?line=1603'>1604</a>\u001b[0m )\n\u001b[0;32m   <a href='file:///c%3A/anaconda/envs/SIGVAE/lib/site-packages/networkx/classes/graph.py?line=1604'>1605</a>\u001b[0m \u001b[39mreturn\u001b[39;00m G\n",
      "File \u001b[1;32mC:\\anaconda\\envs\\SIGVAE\\lib\\copy.py:146\u001b[0m, in \u001b[0;36mdeepcopy\u001b[1;34m(x, memo, _nil)\u001b[0m\n\u001b[0;32m    <a href='file:///c%3A/anaconda/envs/SIGVAE/lib/copy.py?line=143'>144</a>\u001b[0m copier \u001b[39m=\u001b[39m _deepcopy_dispatch\u001b[39m.\u001b[39mget(\u001b[39mcls\u001b[39m)\n\u001b[0;32m    <a href='file:///c%3A/anaconda/envs/SIGVAE/lib/copy.py?line=144'>145</a>\u001b[0m \u001b[39mif\u001b[39;00m copier \u001b[39mis\u001b[39;00m \u001b[39mnot\u001b[39;00m \u001b[39mNone\u001b[39;00m:\n\u001b[1;32m--> <a href='file:///c%3A/anaconda/envs/SIGVAE/lib/copy.py?line=145'>146</a>\u001b[0m     y \u001b[39m=\u001b[39m copier(x, memo)\n\u001b[0;32m    <a href='file:///c%3A/anaconda/envs/SIGVAE/lib/copy.py?line=146'>147</a>\u001b[0m \u001b[39melse\u001b[39;00m:\n\u001b[0;32m    <a href='file:///c%3A/anaconda/envs/SIGVAE/lib/copy.py?line=147'>148</a>\u001b[0m     \u001b[39mif\u001b[39;00m \u001b[39missubclass\u001b[39m(\u001b[39mcls\u001b[39m, \u001b[39mtype\u001b[39m):\n",
      "File \u001b[1;32mC:\\anaconda\\envs\\SIGVAE\\lib\\copy.py:230\u001b[0m, in \u001b[0;36m_deepcopy_dict\u001b[1;34m(x, memo, deepcopy)\u001b[0m\n\u001b[0;32m    <a href='file:///c%3A/anaconda/envs/SIGVAE/lib/copy.py?line=227'>228</a>\u001b[0m memo[\u001b[39mid\u001b[39m(x)] \u001b[39m=\u001b[39m y\n\u001b[0;32m    <a href='file:///c%3A/anaconda/envs/SIGVAE/lib/copy.py?line=228'>229</a>\u001b[0m \u001b[39mfor\u001b[39;00m key, value \u001b[39min\u001b[39;00m x\u001b[39m.\u001b[39mitems():\n\u001b[1;32m--> <a href='file:///c%3A/anaconda/envs/SIGVAE/lib/copy.py?line=229'>230</a>\u001b[0m     y[deepcopy(key, memo)] \u001b[39m=\u001b[39m deepcopy(value, memo)\n\u001b[0;32m    <a href='file:///c%3A/anaconda/envs/SIGVAE/lib/copy.py?line=230'>231</a>\u001b[0m \u001b[39mreturn\u001b[39;00m y\n",
      "File \u001b[1;32mC:\\anaconda\\envs\\SIGVAE\\lib\\copy.py:176\u001b[0m, in \u001b[0;36mdeepcopy\u001b[1;34m(x, memo, _nil)\u001b[0m\n\u001b[0;32m    <a href='file:///c%3A/anaconda/envs/SIGVAE/lib/copy.py?line=173'>174</a>\u001b[0m \u001b[39m# If is its own copy, don't memoize.\u001b[39;00m\n\u001b[0;32m    <a href='file:///c%3A/anaconda/envs/SIGVAE/lib/copy.py?line=174'>175</a>\u001b[0m \u001b[39mif\u001b[39;00m y \u001b[39mis\u001b[39;00m \u001b[39mnot\u001b[39;00m x:\n\u001b[1;32m--> <a href='file:///c%3A/anaconda/envs/SIGVAE/lib/copy.py?line=175'>176</a>\u001b[0m     memo[d] \u001b[39m=\u001b[39m y\n\u001b[0;32m    <a href='file:///c%3A/anaconda/envs/SIGVAE/lib/copy.py?line=176'>177</a>\u001b[0m     _keep_alive(x, memo) \u001b[39m# Make sure x lives at least as long as d\u001b[39;00m\n\u001b[0;32m    <a href='file:///c%3A/anaconda/envs/SIGVAE/lib/copy.py?line=177'>178</a>\u001b[0m \u001b[39mreturn\u001b[39;00m y\n",
      "\u001b[1;31mMemoryError\u001b[0m: "
     ]
    }
   ],
   "source": [
    "adj, adj_train, adj_test, featMatrix, train_graph, train_pos, test_pos, train_neg, test_neg=preprocess(graph)\n",
    "adj_label=adj_train+torch.eye(adj_train.shape[0])\n",
    "#adj_label=torch.FloatTensor(adj_label)\n",
    "  \n",
    "model=SIGVAE_GIN(Lu=1, \n",
    "                Lmu=1, \n",
    "                Lsigma=1, \n",
    "                input_dim=adj_train.shape[0], \n",
    "                output_dim_u=[32], \n",
    "                output_dim_mu=[16], \n",
    "                output_dim_sigma=[16],\n",
    "                K=15,\n",
    "                J=20,\n",
    "                noise_dim=64,\n",
    "                activation=nn.ReLU,\n",
    "                dropout=0)\n",
    "optimizer=torch.optim.Adam(model.parameters(), lr=0.0005)\n",
    "epoch=100\n",
    "    \n",
    "for epc in range(epoch):\n",
    "    t=time.time()\n",
    "    model.train()\n",
    "    optimizer.zero_grad()\n",
    "    generated_prob, mu, sigma, latent_representation, z_proc, epsilon=model(adj_train, featureMatrix)\n",
    "    loss_accumulate=0\n",
    "    latent_representation, generated_prob, loss_train=step(model, adj_train, featMatrix, epc, optimizer, device='cpu')\n",
    "    loss_accumulate+=loss_train\n",
    "    \n",
    "    z_proc=z_proc.numpy()\n",
    "    roc=get_auc(z_proc, train_pos, train_neg)\n",
    "    \n",
    "    print(\"Epoch : \", '%d' %(epoch+1), \"loss=\", \"%f\".format(loss_train.item()),\n",
    "          \"time=\", \"%f\".format(time.time()-t))\n",
    "    \n",
    "    if((epoch+1) % 10 == 0):\n",
    "            model.eval()\n",
    "            generated_prob, mu, sigma, latent_representation, z_proc, epsilon=model(adj_train, featureMatrix)\n",
    "            z_proc = z_proc.numpy()\n",
    "            roc_score = get_auc(z_proc, test_pos, test_neg)\n",
    "            rslt = \"Test ROC score: %f\".format(roc_score)\n",
    "            print(\"\\n\", rslt, \"\\n\")\n",
    "    #latent_representation, generated_prob, loss_train=step(model, adj_train, epoch, optimizer )"
   ]
  },
  {
   "cell_type": "code",
   "execution_count": null,
   "metadata": {},
   "outputs": [],
   "source": []
  }
 ],
 "metadata": {
  "interpreter": {
   "hash": "ba116f7bd82e3a920c573cc5e25ed4764817b5f58b2642ba6fbd57f2ebc1da01"
  },
  "kernelspec": {
   "display_name": "Python 3.9.12 ('SIGVAE')",
   "language": "python",
   "name": "python3"
  },
  "language_info": {
   "codemirror_mode": {
    "name": "ipython",
    "version": 3
   },
   "file_extension": ".py",
   "mimetype": "text/x-python",
   "name": "python",
   "nbconvert_exporter": "python",
   "pygments_lexer": "ipython3",
   "version": "3.9.12"
  },
  "orig_nbformat": 4
 },
 "nbformat": 4,
 "nbformat_minor": 2
}
